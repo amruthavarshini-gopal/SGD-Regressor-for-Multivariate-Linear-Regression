{
 "cells": [
  {
   "cell_type": "code",
   "execution_count": null,
   "id": "1a94d8be",
   "metadata": {},
   "outputs": [],
   "source": [
    "## Name: Amruthavarshini Gopal\n",
    "## Register Number : 212223230013"
   ]
  },
  {
   "cell_type": "code",
   "execution_count": 1,
   "id": "60d5e7a7",
   "metadata": {},
   "outputs": [
    {
     "data": {
      "text/html": [
       "<div>\n",
       "<style scoped>\n",
       "    .dataframe tbody tr th:only-of-type {\n",
       "        vertical-align: middle;\n",
       "    }\n",
       "\n",
       "    .dataframe tbody tr th {\n",
       "        vertical-align: top;\n",
       "    }\n",
       "\n",
       "    .dataframe thead th {\n",
       "        text-align: right;\n",
       "    }\n",
       "</style>\n",
       "<table border=\"1\" class=\"dataframe\">\n",
       "  <thead>\n",
       "    <tr style=\"text-align: right;\">\n",
       "      <th></th>\n",
       "      <th>MedInc</th>\n",
       "      <th>HouseAge</th>\n",
       "      <th>AveRooms</th>\n",
       "      <th>AveBedrms</th>\n",
       "      <th>Population</th>\n",
       "      <th>AveOccup</th>\n",
       "      <th>Latitude</th>\n",
       "      <th>Longitude</th>\n",
       "      <th>HousingPrice</th>\n",
       "    </tr>\n",
       "  </thead>\n",
       "  <tbody>\n",
       "    <tr>\n",
       "      <th>0</th>\n",
       "      <td>8.3252</td>\n",
       "      <td>41.0</td>\n",
       "      <td>6.984127</td>\n",
       "      <td>1.023810</td>\n",
       "      <td>322.0</td>\n",
       "      <td>2.555556</td>\n",
       "      <td>37.88</td>\n",
       "      <td>-122.23</td>\n",
       "      <td>4.526</td>\n",
       "    </tr>\n",
       "    <tr>\n",
       "      <th>1</th>\n",
       "      <td>8.3014</td>\n",
       "      <td>21.0</td>\n",
       "      <td>6.238137</td>\n",
       "      <td>0.971880</td>\n",
       "      <td>2401.0</td>\n",
       "      <td>2.109842</td>\n",
       "      <td>37.86</td>\n",
       "      <td>-122.22</td>\n",
       "      <td>3.585</td>\n",
       "    </tr>\n",
       "    <tr>\n",
       "      <th>2</th>\n",
       "      <td>7.2574</td>\n",
       "      <td>52.0</td>\n",
       "      <td>8.288136</td>\n",
       "      <td>1.073446</td>\n",
       "      <td>496.0</td>\n",
       "      <td>2.802260</td>\n",
       "      <td>37.85</td>\n",
       "      <td>-122.24</td>\n",
       "      <td>3.521</td>\n",
       "    </tr>\n",
       "    <tr>\n",
       "      <th>3</th>\n",
       "      <td>5.6431</td>\n",
       "      <td>52.0</td>\n",
       "      <td>5.817352</td>\n",
       "      <td>1.073059</td>\n",
       "      <td>558.0</td>\n",
       "      <td>2.547945</td>\n",
       "      <td>37.85</td>\n",
       "      <td>-122.25</td>\n",
       "      <td>3.413</td>\n",
       "    </tr>\n",
       "    <tr>\n",
       "      <th>4</th>\n",
       "      <td>3.8462</td>\n",
       "      <td>52.0</td>\n",
       "      <td>6.281853</td>\n",
       "      <td>1.081081</td>\n",
       "      <td>565.0</td>\n",
       "      <td>2.181467</td>\n",
       "      <td>37.85</td>\n",
       "      <td>-122.25</td>\n",
       "      <td>3.422</td>\n",
       "    </tr>\n",
       "  </tbody>\n",
       "</table>\n",
       "</div>"
      ],
      "text/plain": [
       "   MedInc  HouseAge  AveRooms  AveBedrms  Population  AveOccup  Latitude  \\\n",
       "0  8.3252      41.0  6.984127   1.023810       322.0  2.555556     37.88   \n",
       "1  8.3014      21.0  6.238137   0.971880      2401.0  2.109842     37.86   \n",
       "2  7.2574      52.0  8.288136   1.073446       496.0  2.802260     37.85   \n",
       "3  5.6431      52.0  5.817352   1.073059       558.0  2.547945     37.85   \n",
       "4  3.8462      52.0  6.281853   1.081081       565.0  2.181467     37.85   \n",
       "\n",
       "   Longitude  HousingPrice  \n",
       "0    -122.23         4.526  \n",
       "1    -122.22         3.585  \n",
       "2    -122.24         3.521  \n",
       "3    -122.25         3.413  \n",
       "4    -122.25         3.422  "
      ]
     },
     "execution_count": 1,
     "metadata": {},
     "output_type": "execute_result"
    }
   ],
   "source": [
    "import numpy as np\n",
    "import pandas as pd\n",
    "from sklearn.datasets import fetch_california_housing\n",
    "from sklearn.linear_model import SGDRegressor\n",
    "from sklearn.multioutput import MultiOutputRegressor\n",
    "from sklearn.model_selection import train_test_split\n",
    "from sklearn.metrics import mean_squared_error\n",
    "from sklearn.preprocessing import StandardScaler\n",
    "##Load the dataset California Housing\n",
    "dataset=fetch_california_housing()\n",
    "df=pd.DataFrame(dataset.data,columns=dataset.feature_names)\n",
    "df['HousingPrice']=dataset.target\n",
    "df.head()"
   ]
  },
  {
   "cell_type": "code",
   "execution_count": 4,
   "id": "312e8916",
   "metadata": {},
   "outputs": [],
   "source": [
    "## first three features as input\n",
    "x=df.drop(columns=['AveOccup','HousingPrice'])\n",
    "## aveoccup and housingprice as output\n",
    "y=df[['AveOccup','HousingPrice']]\n",
    "## split the data into training and test data\n",
    "x_train,x_test,y_train,y_test=train_test_split(x,y,test_size=0.2,random_state=42)\n",
    "## scale the features and target variable\n",
    "scaler_x=StandardScaler()\n",
    "scaler_y=StandardScaler()\n",
    "x_train=scaler_x.fit_transform(x_train)\n",
    "x_test=scaler_x.transform(x_test)\n",
    "y_train=scaler_y.fit_transform(y_train)\n",
    "y_test=scaler_y.transform(y_test)"
   ]
  },
  {
   "cell_type": "code",
   "execution_count": 6,
   "id": "4c0840c5",
   "metadata": {},
   "outputs": [
    {
     "name": "stdout",
     "output_type": "stream",
     "text": [
      "Mean Squared Error: 2.1332767083391517\n",
      "\n",
      "Predictions:\n",
      " [[3.14299357 0.75154347]\n",
      " [2.8603765  1.74372147]\n",
      " [4.02972265 2.68780585]\n",
      " [2.56457678 2.84062832]\n",
      " [1.8950322  2.60875603]]\n"
     ]
    }
   ],
   "source": [
    "#initialize the SGDRegressor\n",
    "sgd=SGDRegressor(max_iter=1000,tol=1e-3)\n",
    "#we need to use MultiOutputRegressor to handle multiple output variables\n",
    "multi_output_sgd=MultiOutputRegressor(sgd)\n",
    "#train the model\n",
    "multi_output_sgd.fit(x_train,y_train)\n",
    "#predict on the test data\n",
    "y_pred=multi_output_sgd.predict(x_test)\n",
    "#inverse transforms the predictions to get them back to the original scale\n",
    "y_pred=scaler_y.inverse_transform(y_pred)\n",
    "y_test=scaler_y.inverse_transform(y_test)\n",
    "#evaluate the model using mse\n",
    "mse=mean_squared_error(y_test,y_pred)\n",
    "print(\"Mean Squared Error:\",mse)\n",
    "print(\"\\nPredictions:\\n\",y_pred[:5])"
   ]
  },
  {
   "cell_type": "code",
   "execution_count": null,
   "id": "8b3715e9",
   "metadata": {},
   "outputs": [],
   "source": [
    "##Name : Amruthavarshini Gopal\n",
    "##Register Number : 212223230013"
   ]
  }
 ],
 "metadata": {
  "kernelspec": {
   "display_name": "Python 3 (ipykernel)",
   "language": "python",
   "name": "python3"
  },
  "language_info": {
   "codemirror_mode": {
    "name": "ipython",
    "version": 3
   },
   "file_extension": ".py",
   "mimetype": "text/x-python",
   "name": "python",
   "nbconvert_exporter": "python",
   "pygments_lexer": "ipython3",
   "version": "3.11.3"
  }
 },
 "nbformat": 4,
 "nbformat_minor": 5
}
